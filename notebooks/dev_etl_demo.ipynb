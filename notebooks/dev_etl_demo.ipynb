{
 "cells": [
  {
   "cell_type": "code",
   "execution_count": null,
   "id": "c230c388",
   "metadata": {
    "execution": {
     "iopub.execute_input": "2025-07-20T18:05:27.740217Z",
     "iopub.status.busy": "2025-07-20T18:05:27.739635Z",
     "iopub.status.idle": "2025-07-20T18:06:56.315828Z",
     "shell.execute_reply": "2025-07-20T18:06:56.308792Z"
    },
    "papermill": {
     "duration": 88.722694,
     "end_time": "2025-07-20T18:06:56.385389",
     "exception": true,
     "start_time": "2025-07-20T18:05:27.662695",
     "status": "failed"
    },
    "tags": []
   },
   "outputs": [],
   "source": [
    "# 1. Setup SparkSession\n",
    "from pyspark.sql import SparkSession\n",
    "from pyspark.sql.types import StructType, StructField, StringType, IntegerType, DoubleType\n",
    "\n",
    "spark = SparkSession.builder \\\n",
    "    .appName(\"EcommerceDataAnalysis\") \\\n",
    "    .master(\"local[*]\") \\\n",
    "    .getOrCreate()\n",
    "\n",
    "# Define the schema\n",
    "schema = StructType([\n",
    "    StructField(\"column1\", StringType(), True),\n",
    "    StructField(\"column2\", IntegerType(), True),\n",
    "    StructField(\"column3\", DoubleType(), True),\n",
    "    # Add more fields as needed\n",
    "])\n",
    "\n",
    "# 2. Read the output Parquet with the specified schema\n",
    "df = spark.read.schema(schema).parquet(\"/mnt/c/Users/Shivam Gupta/OneDrive/Documents/Shivam_Developement/DATA_ENGINEERING/data_engineering_project/batch-etl-pyspark/data/analytics/output\")\n",
    "df.show(5)\n",
    "df.printSchema()\n",
    "print(f\"Total Records: {df.count()}\")\n",
    "\n",
    "# 3. Optional: GroupBy Analysis\n",
    "df.groupBy(\"category\").count().show()\n",
    "\n",
    "# 4. Save to CSV\n",
    "import os\n",
    "output_dir = \"../data/processed\"\n",
    "os.makedirs(output_dir, exist_ok=True)\n",
    "df.coalesce(1).write.mode(\"overwrite\").csv(output_dir, header=True)\n",
    "print(f\"✅ CSV written to: {output_dir}\")\n",
    "\n",
    "# 5. Stop Spark\n",
    "spark.stop()"
   ]
  }
 ],
 "metadata": {
  "kernelspec": {
   "display_name": ".venv",
   "language": "python",
   "name": "python3"
  },
  "language_info": {
   "codemirror_mode": {
    "name": "ipython",
    "version": 3
   },
   "file_extension": ".py",
   "mimetype": "text/x-python",
   "name": "python",
   "nbconvert_exporter": "python",
   "pygments_lexer": "ipython3",
   "version": "3.12.3"
  },
  "papermill": {
   "default_parameters": {},
   "duration": 134.788871,
   "end_time": "2025-07-20T18:06:59.441557",
   "environment_variables": {},
   "exception": true,
   "input_path": "/mnt/c/Users/Shivam Gupta/OneDrive/Documents/Shivam_Developement/DATA_ENGINEERING/data_engineering_project/batch-etl-pyspark/notebooks/dev_etl_demo.ipynb",
   "output_path": "/mnt/c/Users/Shivam Gupta/OneDrive/Documents/Shivam_Developement/DATA_ENGINEERING/data_engineering_project/batch-etl-pyspark/notebooks/dev_etl_demo.ipynb",
   "parameters": {},
   "start_time": "2025-07-20T18:04:44.652686",
   "version": "2.6.0"
  }
 },
 "nbformat": 4,
 "nbformat_minor": 5
}
